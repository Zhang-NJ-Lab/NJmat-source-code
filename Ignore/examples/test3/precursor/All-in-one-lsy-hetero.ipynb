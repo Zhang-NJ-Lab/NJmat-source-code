{
 "cells": [
  {
   "cell_type": "code",
   "execution_count": 5,
   "id": "afe99e7b-5ef2-479c-b05e-60de62a4e645",
   "metadata": {},
   "outputs": [
    {
     "name": "stdout",
     "output_type": "stream",
     "text": [
      "********************************************************************************\n",
      "Columns ending with 'InorganicFormula':\n",
      "********************************************************************************\n",
      "   layer1_InorganicFormula layer2_InorganicFormula first-AX_InorganicFormula  \\\n",
      "0                 CsPbBr2I                 CsPbBr3                       CsI   \n",
      "1                 CsPbBr2I                 CsPbBr3                       CsI   \n",
      "2                 CsPbBr2I                CsPbClI2                       CsI   \n",
      "3                 CsPbBr2I                CsPbClI2                       CsI   \n",
      "4                  CsPbBr3            CH3NH3PbBr2I                      CsBr   \n",
      "..                     ...                     ...                       ...   \n",
      "73             CH3NH3SnCl3            CH3NH3PbBr2I                  CH3NH3Cl   \n",
      "74            CH3NH3SnClF2            (NH2)2CHSnI3                  CH3NH3Cl   \n",
      "75            CH3NH3SnClF2            (NH2)2CHSnI3                  CH3NH3Cl   \n",
      "76              CH3NH3SnI3                  CsPbI3                   CH3NH3I   \n",
      "77              CH3NH3SnI3                  CsPbI3                   CH3NH3I   \n",
      "\n",
      "   first-BX2_InorganicFormula Second-AX_InorganicFormula  \\\n",
      "0                       PbBr2                       CsBr   \n",
      "1                       PbBr2                       CsBr   \n",
      "2                       PbBr2                    CH3NH3I   \n",
      "3                       PbBr2                    CH3NH3I   \n",
      "4                       PbBr2                       CsBr   \n",
      "..                        ...                        ...   \n",
      "73                      SnCl2                       CsCl   \n",
      "74                       SnF2                  (NH2)2CHI   \n",
      "75                       SnF2                  (NH2)2CHI   \n",
      "76                       SnI2                        CsI   \n",
      "77                       SnI2                        CsI   \n",
      "\n",
      "   Second-BX2_InorganicFormula postprocessing_InorganicFormula  \n",
      "0                        PbBr2                           NH4Cl  \n",
      "1                        PbBr2                        C16H36IN  \n",
      "2                        PbBr2                           SnBr2  \n",
      "3                        PbBr2                            SnI2  \n",
      "4                        PbCl2                            AgCl  \n",
      "..                         ...                             ...  \n",
      "73                       PbBr2                            NaCl  \n",
      "74                        SnI2                      (NH2)2CHCl  \n",
      "75                        SnI2                            PbI2  \n",
      "76                        PbI2                        C9H7BrO2  \n",
      "77                        PbI2                        CH3NH3Br  \n",
      "\n",
      "[78 rows x 7 columns]\n",
      "********************************************************************************\n",
      "Columns ending with 'OrganicSmiles':\n",
      "********************************************************************************\n",
      "             SMILES_OrganicSmiles\n",
      "0                    [NH4+].[Cl-]\n",
      "1   CCCC[N+](CCCC)(CCCC)CCCC.[I-]\n",
      "2              [Br-].[Br-].[Sn+2]\n",
      "3                [Sn+2].[I-].[I-]\n",
      "4                     [Cl-].[Ag+]\n",
      "..                            ...\n",
      "73                    [Na+].[Cl-]\n",
      "74                      C(=N)N.Cl\n",
      "75               [I-].[I-].[Pb+2]\n",
      "76  C1=CC(=CC(=C1)Br)/C=C/C(=O)O \n",
      "77                          CN.Br\n",
      "\n",
      "[78 rows x 1 columns]\n"
     ]
    }
   ],
   "source": [
    "import pandas as pd\n",
    "def select_columns_by_suffix(df, suffix):\n",
    "    filtered_columns = df.filter(regex=f'{suffix}$')\n",
    "    return filtered_columns\n",
    "\n",
    "def extract_and_store_columns(csv_file, suffixes):\n",
    "    # 读取 CSV 文件\n",
    "    df = pd.read_csv(csv_file)\n",
    "\n",
    "    selected_columns = {}\n",
    "    for suffix in suffixes:\n",
    "        selected_columns[suffix] = select_columns_by_suffix(df, suffix)\n",
    "        print('********************************************************************************')\n",
    "        print(f\"Columns ending with '{suffix}':\")\n",
    "        print('********************************************************************************')\n",
    "        print(selected_columns[suffix])\n",
    "        # 如果需要保存到新的DataFrame中，取消注释下一行\n",
    "        global df_selected\n",
    "        df_selected = pd.concat(selected_columns, axis=1)\n",
    "        # df_combined = pd.concat(selected_columns.values(), axis=1)\n",
    "        # df_combined.to_csv('selected_columns.csv', index=False)\n",
    "        selected_columns[suffix].to_csv(f'{suffix}_selected_columns.csv', index=False)\n",
    "\n",
    "    # 获取未被选中的列\n",
    "    unselected_columns = df.drop(columns=[col for cols in selected_columns.values() for col in cols.columns])\n",
    "\n",
    "    # 保存未被选中的列到 CSV 文件\n",
    "    unselected_columns.to_csv('unselected_columns.csv', index=False)\n",
    "\n",
    "\n",
    "    return selected_columns\n",
    "\n",
    "# 用法示例\n",
    "file_path = 'Formula-Smiles-lsy-clf.csv'\n",
    "suffixes = ['InorganicFormula', 'OrganicSmiles']\n",
    "selected_columns = extract_and_store_columns(file_path, suffixes)"
   ]
  },
  {
   "cell_type": "code",
   "execution_count": 6,
   "id": "64c4e5f7-ae1a-4603-8dcd-a61de44e7516",
   "metadata": {},
   "outputs": [],
   "source": [
    "original_data = pd.DataFrame(pd.read_csv('InorganicFormula_selected_columns.csv'))"
   ]
  },
  {
   "cell_type": "code",
   "execution_count": 7,
   "id": "4fd13c46-f005-420a-ba74-85c22d418f70",
   "metadata": {},
   "outputs": [
    {
     "name": "stdout",
     "output_type": "stream",
     "text": [
      "data1:\n",
      "            Name\n",
      "0       CsPbBr2I\n",
      "1       CsPbBr2I\n",
      "2       CsPbBr2I\n",
      "3       CsPbBr2I\n",
      "4        CsPbBr3\n",
      "..           ...\n",
      "73   CH3NH3SnCl3\n",
      "74  CH3NH3SnClF2\n",
      "75  CH3NH3SnClF2\n",
      "76    CH3NH3SnI3\n",
      "77    CH3NH3SnI3\n",
      "\n",
      "[78 rows x 1 columns]\n",
      "\n",
      "data2:\n",
      "            Name\n",
      "0        CsPbBr3\n",
      "1        CsPbBr3\n",
      "2       CsPbClI2\n",
      "3       CsPbClI2\n",
      "4   CH3NH3PbBr2I\n",
      "..           ...\n",
      "73  CH3NH3PbBr2I\n",
      "74  (NH2)2CHSnI3\n",
      "75  (NH2)2CHSnI3\n",
      "76        CsPbI3\n",
      "77        CsPbI3\n",
      "\n",
      "[78 rows x 1 columns]\n",
      "\n",
      "data3:\n",
      "        Name\n",
      "0        CsI\n",
      "1        CsI\n",
      "2        CsI\n",
      "3        CsI\n",
      "4       CsBr\n",
      "..       ...\n",
      "73  CH3NH3Cl\n",
      "74  CH3NH3Cl\n",
      "75  CH3NH3Cl\n",
      "76   CH3NH3I\n",
      "77   CH3NH3I\n",
      "\n",
      "[78 rows x 1 columns]\n",
      "\n",
      "data4:\n",
      "     Name\n",
      "0   PbBr2\n",
      "1   PbBr2\n",
      "2   PbBr2\n",
      "3   PbBr2\n",
      "4   PbBr2\n",
      "..    ...\n",
      "73  SnCl2\n",
      "74   SnF2\n",
      "75   SnF2\n",
      "76   SnI2\n",
      "77   SnI2\n",
      "\n",
      "[78 rows x 1 columns]\n",
      "\n",
      "data5:\n",
      "         Name\n",
      "0        CsBr\n",
      "1        CsBr\n",
      "2     CH3NH3I\n",
      "3     CH3NH3I\n",
      "4        CsBr\n",
      "..        ...\n",
      "73       CsCl\n",
      "74  (NH2)2CHI\n",
      "75  (NH2)2CHI\n",
      "76        CsI\n",
      "77        CsI\n",
      "\n",
      "[78 rows x 1 columns]\n",
      "\n",
      "data6:\n",
      "     Name\n",
      "0   PbBr2\n",
      "1   PbBr2\n",
      "2   PbBr2\n",
      "3   PbBr2\n",
      "4   PbCl2\n",
      "..    ...\n",
      "73  PbBr2\n",
      "74   SnI2\n",
      "75   SnI2\n",
      "76   PbI2\n",
      "77   PbI2\n",
      "\n",
      "[78 rows x 1 columns]\n",
      "\n",
      "data7:\n",
      "          Name\n",
      "0        NH4Cl\n",
      "1     C16H36IN\n",
      "2        SnBr2\n",
      "3         SnI2\n",
      "4         AgCl\n",
      "..         ...\n",
      "73        NaCl\n",
      "74  (NH2)2CHCl\n",
      "75        PbI2\n",
      "76    C9H7BrO2\n",
      "77    CH3NH3Br\n",
      "\n",
      "[78 rows x 1 columns]\n",
      "\n"
     ]
    }
   ],
   "source": [
    "import pandas as pd\n",
    "\n",
    "# 假设 original_data 是您的原始数据集\n",
    "# 创建一个空字典，用于存储新的数据集\n",
    "new_datasets = {}\n",
    "\n",
    "# 遍历原始数据集的每一列\n",
    "for col_name in original_data.columns:\n",
    "    # 创建新的数据集，将当前列命名为 'Name'\n",
    "    new_dataset = pd.DataFrame({ 'Name': original_data[col_name] })\n",
    "    \n",
    "    # 将新数据集存储在字典中，字典的键是 'data1'，'data2'，依此类推\n",
    "    new_datasets['data' + str(len(new_datasets) + 1)] = new_dataset\n",
    "\n",
    "# 打印或使用新的数据集\n",
    "for key, value in new_datasets.items():\n",
    "    print(f\"{key}:\\n{value}\\n\")"
   ]
  },
  {
   "cell_type": "code",
   "execution_count": 8,
   "id": "4092b2f1-4365-4dd8-902a-86a65d33704d",
   "metadata": {},
   "outputs": [
    {
     "data": {
      "application/vnd.jupyter.widget-view+json": {
       "model_id": "f7efd2989b7448acb07d7d74fc5feade",
       "version_major": 2,
       "version_minor": 0
      },
      "text/plain": [
       "StrToComposition:   0%|          | 0/78 [00:00<?, ?it/s]"
      ]
     },
     "metadata": {},
     "output_type": "display_data"
    },
    {
     "data": {
      "application/vnd.jupyter.widget-view+json": {
       "model_id": "24638717cb8147c88f22f3cdac3d0149",
       "version_major": 2,
       "version_minor": 0
      },
      "text/plain": [
       "AtomicOrbitals:   0%|          | 0/78 [00:00<?, ?it/s]"
      ]
     },
     "metadata": {},
     "output_type": "display_data"
    },
    {
     "data": {
      "application/vnd.jupyter.widget-view+json": {
       "model_id": "e81079f5bff249cc8db2d29949e971f3",
       "version_major": 2,
       "version_minor": 0
      },
      "text/plain": [
       "ElementProperty:   0%|          | 0/78 [00:00<?, ?it/s]"
      ]
     },
     "metadata": {},
     "output_type": "display_data"
    },
    {
     "data": {
      "application/vnd.jupyter.widget-view+json": {
       "model_id": "f0990bd9b8d5422b832ae9b41a4cfdc2",
       "version_major": 2,
       "version_minor": 0
      },
      "text/plain": [
       "ElementFraction:   0%|          | 0/78 [00:00<?, ?it/s]"
      ]
     },
     "metadata": {},
     "output_type": "display_data"
    },
    {
     "data": {
      "application/vnd.jupyter.widget-view+json": {
       "model_id": "1c45805b09aa49ae892278863d5cce38",
       "version_major": 2,
       "version_minor": 0
      },
      "text/plain": [
       "StrToComposition:   0%|          | 0/78 [00:00<?, ?it/s]"
      ]
     },
     "metadata": {},
     "output_type": "display_data"
    },
    {
     "data": {
      "application/vnd.jupyter.widget-view+json": {
       "model_id": "3e1eb3d137064707b09b86e440850098",
       "version_major": 2,
       "version_minor": 0
      },
      "text/plain": [
       "AtomicOrbitals:   0%|          | 0/78 [00:00<?, ?it/s]"
      ]
     },
     "metadata": {},
     "output_type": "display_data"
    },
    {
     "data": {
      "application/vnd.jupyter.widget-view+json": {
       "model_id": "cb6f6ab35d2441a68a8f660bf8b42321",
       "version_major": 2,
       "version_minor": 0
      },
      "text/plain": [
       "ElementProperty:   0%|          | 0/78 [00:00<?, ?it/s]"
      ]
     },
     "metadata": {},
     "output_type": "display_data"
    },
    {
     "data": {
      "application/vnd.jupyter.widget-view+json": {
       "model_id": "a594efa7587b4582b656f6d0cbd57200",
       "version_major": 2,
       "version_minor": 0
      },
      "text/plain": [
       "ElementFraction:   0%|          | 0/78 [00:00<?, ?it/s]"
      ]
     },
     "metadata": {},
     "output_type": "display_data"
    },
    {
     "data": {
      "application/vnd.jupyter.widget-view+json": {
       "model_id": "5399d26755394ef393a89842ba029ded",
       "version_major": 2,
       "version_minor": 0
      },
      "text/plain": [
       "StrToComposition:   0%|          | 0/78 [00:00<?, ?it/s]"
      ]
     },
     "metadata": {},
     "output_type": "display_data"
    },
    {
     "data": {
      "application/vnd.jupyter.widget-view+json": {
       "model_id": "05e2d1c8e10a414b945e1968c1bda13e",
       "version_major": 2,
       "version_minor": 0
      },
      "text/plain": [
       "AtomicOrbitals:   0%|          | 0/78 [00:00<?, ?it/s]"
      ]
     },
     "metadata": {},
     "output_type": "display_data"
    },
    {
     "data": {
      "application/vnd.jupyter.widget-view+json": {
       "model_id": "78be31387c4349f581cd853632acb042",
       "version_major": 2,
       "version_minor": 0
      },
      "text/plain": [
       "ElementProperty:   0%|          | 0/78 [00:00<?, ?it/s]"
      ]
     },
     "metadata": {},
     "output_type": "display_data"
    },
    {
     "data": {
      "application/vnd.jupyter.widget-view+json": {
       "model_id": "208326368ffe4a839b92850a0fdd880a",
       "version_major": 2,
       "version_minor": 0
      },
      "text/plain": [
       "ElementFraction:   0%|          | 0/78 [00:00<?, ?it/s]"
      ]
     },
     "metadata": {},
     "output_type": "display_data"
    },
    {
     "data": {
      "application/vnd.jupyter.widget-view+json": {
       "model_id": "7987685e51de4907a8a071d0330b058b",
       "version_major": 2,
       "version_minor": 0
      },
      "text/plain": [
       "StrToComposition:   0%|          | 0/78 [00:00<?, ?it/s]"
      ]
     },
     "metadata": {},
     "output_type": "display_data"
    },
    {
     "data": {
      "application/vnd.jupyter.widget-view+json": {
       "model_id": "b048ee1868614a3ca6fec10f41d81d05",
       "version_major": 2,
       "version_minor": 0
      },
      "text/plain": [
       "AtomicOrbitals:   0%|          | 0/78 [00:00<?, ?it/s]"
      ]
     },
     "metadata": {},
     "output_type": "display_data"
    },
    {
     "data": {
      "application/vnd.jupyter.widget-view+json": {
       "model_id": "9d74ae7021ee436fbbd4d784137d1cc9",
       "version_major": 2,
       "version_minor": 0
      },
      "text/plain": [
       "ElementProperty:   0%|          | 0/78 [00:00<?, ?it/s]"
      ]
     },
     "metadata": {},
     "output_type": "display_data"
    },
    {
     "data": {
      "application/vnd.jupyter.widget-view+json": {
       "model_id": "e31ecb9bf58c4692b6cc4a9f0350fd77",
       "version_major": 2,
       "version_minor": 0
      },
      "text/plain": [
       "ElementFraction:   0%|          | 0/78 [00:00<?, ?it/s]"
      ]
     },
     "metadata": {},
     "output_type": "display_data"
    },
    {
     "data": {
      "application/vnd.jupyter.widget-view+json": {
       "model_id": "c0bb0b9f34c6472dbdb3b994f4d21ab5",
       "version_major": 2,
       "version_minor": 0
      },
      "text/plain": [
       "StrToComposition:   0%|          | 0/78 [00:00<?, ?it/s]"
      ]
     },
     "metadata": {},
     "output_type": "display_data"
    },
    {
     "data": {
      "application/vnd.jupyter.widget-view+json": {
       "model_id": "34d122041db44fee966c4ec5ab0073ca",
       "version_major": 2,
       "version_minor": 0
      },
      "text/plain": [
       "AtomicOrbitals:   0%|          | 0/78 [00:00<?, ?it/s]"
      ]
     },
     "metadata": {},
     "output_type": "display_data"
    },
    {
     "data": {
      "application/vnd.jupyter.widget-view+json": {
       "model_id": "3bc4af95777541c1b25cfde74ec53106",
       "version_major": 2,
       "version_minor": 0
      },
      "text/plain": [
       "ElementProperty:   0%|          | 0/78 [00:00<?, ?it/s]"
      ]
     },
     "metadata": {},
     "output_type": "display_data"
    },
    {
     "data": {
      "application/vnd.jupyter.widget-view+json": {
       "model_id": "07df3c469b894d5c849fb509d56d8320",
       "version_major": 2,
       "version_minor": 0
      },
      "text/plain": [
       "ElementFraction:   0%|          | 0/78 [00:00<?, ?it/s]"
      ]
     },
     "metadata": {},
     "output_type": "display_data"
    },
    {
     "data": {
      "application/vnd.jupyter.widget-view+json": {
       "model_id": "a61e53d2420746d5859903187654cb42",
       "version_major": 2,
       "version_minor": 0
      },
      "text/plain": [
       "StrToComposition:   0%|          | 0/78 [00:00<?, ?it/s]"
      ]
     },
     "metadata": {},
     "output_type": "display_data"
    },
    {
     "data": {
      "application/vnd.jupyter.widget-view+json": {
       "model_id": "003ad2aa10ea4998afa53c1cb42f399e",
       "version_major": 2,
       "version_minor": 0
      },
      "text/plain": [
       "AtomicOrbitals:   0%|          | 0/78 [00:00<?, ?it/s]"
      ]
     },
     "metadata": {},
     "output_type": "display_data"
    },
    {
     "data": {
      "application/vnd.jupyter.widget-view+json": {
       "model_id": "6a7635d4c8574613b3b320c4c5a5852a",
       "version_major": 2,
       "version_minor": 0
      },
      "text/plain": [
       "ElementProperty:   0%|          | 0/78 [00:00<?, ?it/s]"
      ]
     },
     "metadata": {},
     "output_type": "display_data"
    },
    {
     "data": {
      "application/vnd.jupyter.widget-view+json": {
       "model_id": "3bfae3eb3cda465ca1c5b5374351994b",
       "version_major": 2,
       "version_minor": 0
      },
      "text/plain": [
       "ElementFraction:   0%|          | 0/78 [00:00<?, ?it/s]"
      ]
     },
     "metadata": {},
     "output_type": "display_data"
    },
    {
     "data": {
      "application/vnd.jupyter.widget-view+json": {
       "model_id": "58c128bbaa544be78be73a49d3d8f09f",
       "version_major": 2,
       "version_minor": 0
      },
      "text/plain": [
       "StrToComposition:   0%|          | 0/78 [00:00<?, ?it/s]"
      ]
     },
     "metadata": {},
     "output_type": "display_data"
    },
    {
     "data": {
      "application/vnd.jupyter.widget-view+json": {
       "model_id": "9ada4174701548d7b4684eb4efe9c217",
       "version_major": 2,
       "version_minor": 0
      },
      "text/plain": [
       "AtomicOrbitals:   0%|          | 0/78 [00:00<?, ?it/s]"
      ]
     },
     "metadata": {},
     "output_type": "display_data"
    },
    {
     "data": {
      "application/vnd.jupyter.widget-view+json": {
       "model_id": "94b3e31db89f4c2987f5402860cf1357",
       "version_major": 2,
       "version_minor": 0
      },
      "text/plain": [
       "ElementProperty:   0%|          | 0/78 [00:00<?, ?it/s]"
      ]
     },
     "metadata": {},
     "output_type": "display_data"
    },
    {
     "data": {
      "application/vnd.jupyter.widget-view+json": {
       "model_id": "9e110e482023419b9cc4d9b0a093c811",
       "version_major": 2,
       "version_minor": 0
      },
      "text/plain": [
       "ElementFraction:   0%|          | 0/78 [00:00<?, ?it/s]"
      ]
     },
     "metadata": {},
     "output_type": "display_data"
    },
    {
     "name": "stdout",
     "output_type": "stream",
     "text": [
      "    inorganic_formula_1_orbital_HOMO_energy  \\\n",
      "0                                 -0.267904   \n",
      "1                                 -0.267904   \n",
      "2                                 -0.267904   \n",
      "3                                 -0.267904   \n",
      "4                                 -0.295334   \n",
      "..                                      ...   \n",
      "73                                -0.233471   \n",
      "74                                -0.233471   \n",
      "75                                -0.233471   \n",
      "76                                -0.233471   \n",
      "77                                -0.233471   \n",
      "\n",
      "    inorganic_formula_1_orbital_LUMO_energy  \\\n",
      "0                                 -0.141831   \n",
      "1                                 -0.141831   \n",
      "2                                 -0.141831   \n",
      "3                                 -0.141831   \n",
      "4                                 -0.141831   \n",
      "..                                      ...   \n",
      "73                                -0.233471   \n",
      "74                                -0.233471   \n",
      "75                                -0.233471   \n",
      "76                                -0.233471   \n",
      "77                                -0.233471   \n",
      "\n",
      "    inorganic_formula_1_orbital_gap_AO  \\\n",
      "0                             0.126073   \n",
      "1                             0.126073   \n",
      "2                             0.126073   \n",
      "3                             0.126073   \n",
      "4                             0.153503   \n",
      "..                                 ...   \n",
      "73                            0.000000   \n",
      "74                            0.000000   \n",
      "75                            0.000000   \n",
      "76                            0.000000   \n",
      "77                            0.000000   \n",
      "\n",
      "    inorganic_formula_1_element_property_MagpieData mean Number  \\\n",
      "0                                           52.000000             \n",
      "1                                           52.000000             \n",
      "2                                           52.000000             \n",
      "3                                           52.000000             \n",
      "4                                           48.400000             \n",
      "..                                                ...             \n",
      "73                                          10.000000             \n",
      "74                                           8.666667             \n",
      "75                                           8.666667             \n",
      "76                                          19.000000             \n",
      "77                                          19.000000             \n",
      "\n",
      "    inorganic_formula_1_element_property_MagpieData minimum Number  \\\n",
      "0                                                35.0                \n",
      "1                                                35.0                \n",
      "2                                                35.0                \n",
      "3                                                35.0                \n",
      "4                                                35.0                \n",
      "..                                                ...                \n",
      "73                                                1.0                \n",
      "74                                                1.0                \n",
      "75                                                1.0                \n",
      "76                                                1.0                \n",
      "77                                                1.0                \n",
      "\n",
      "    inorganic_formula_1_element_property_MagpieData maximum Number  \\\n",
      "0                                                82.0                \n",
      "1                                                82.0                \n",
      "2                                                82.0                \n",
      "3                                                82.0                \n",
      "4                                                82.0                \n",
      "..                                                ...                \n",
      "73                                               50.0                \n",
      "74                                               50.0                \n",
      "75                                               50.0                \n",
      "76                                               53.0                \n",
      "77                                               53.0                \n",
      "\n",
      "    inorganic_formula_1_element_property_MagpieData range Number  \\\n",
      "0                                                47.0              \n",
      "1                                                47.0              \n",
      "2                                                47.0              \n",
      "3                                                47.0              \n",
      "4                                                47.0              \n",
      "..                                                ...              \n",
      "73                                               49.0              \n",
      "74                                               49.0              \n",
      "75                                               49.0              \n",
      "76                                               52.0              \n",
      "77                                               52.0              \n",
      "\n",
      "    inorganic_formula_1_element_property_MagpieData avg_dev Number  \\\n",
      "0                                           13.600000                \n",
      "1                                           13.600000                \n",
      "2                                           13.600000                \n",
      "3                                           13.600000                \n",
      "4                                           16.080000                \n",
      "..                                                ...                \n",
      "73                                          10.166667                \n",
      "74                                           8.388889                \n",
      "75                                           8.388889                \n",
      "76                                          22.166667                \n",
      "77                                          22.166667                \n",
      "\n",
      "    inorganic_formula_1_element_property_MagpieData mode Number  \\\n",
      "0                                                35.0             \n",
      "1                                                35.0             \n",
      "2                                                35.0             \n",
      "3                                                35.0             \n",
      "4                                                35.0             \n",
      "..                                                ...             \n",
      "73                                                1.0             \n",
      "74                                                1.0             \n",
      "75                                                1.0             \n",
      "76                                                1.0             \n",
      "77                                                1.0             \n",
      "\n",
      "    inorganic_formula_1_element_property_MagpieData mean MendeleevNumber  ...  \\\n",
      "0                                           74.400000                     ...   \n",
      "1                                           74.400000                     ...   \n",
      "2                                           74.400000                     ...   \n",
      "3                                           74.400000                     ...   \n",
      "4                                           74.200000                     ...   \n",
      "..                                                ...                     ...   \n",
      "73                                          89.416667                     ...   \n",
      "74                                          89.250000                     ...   \n",
      "75                                          89.250000                     ...   \n",
      "76                                          89.916667                     ...   \n",
      "77                                          89.916667                     ...   \n",
      "\n",
      "    inorganic_formula_7_element_fraction_Np  \\\n",
      "0                                         0   \n",
      "1                                         0   \n",
      "2                                         0   \n",
      "3                                         0   \n",
      "4                                         0   \n",
      "..                                      ...   \n",
      "73                                        0   \n",
      "74                                        0   \n",
      "75                                        0   \n",
      "76                                        0   \n",
      "77                                        0   \n",
      "\n",
      "    inorganic_formula_7_element_fraction_Pu  \\\n",
      "0                                         0   \n",
      "1                                         0   \n",
      "2                                         0   \n",
      "3                                         0   \n",
      "4                                         0   \n",
      "..                                      ...   \n",
      "73                                        0   \n",
      "74                                        0   \n",
      "75                                        0   \n",
      "76                                        0   \n",
      "77                                        0   \n",
      "\n",
      "    inorganic_formula_7_element_fraction_Am  \\\n",
      "0                                         0   \n",
      "1                                         0   \n",
      "2                                         0   \n",
      "3                                         0   \n",
      "4                                         0   \n",
      "..                                      ...   \n",
      "73                                        0   \n",
      "74                                        0   \n",
      "75                                        0   \n",
      "76                                        0   \n",
      "77                                        0   \n",
      "\n",
      "    inorganic_formula_7_element_fraction_Cm  \\\n",
      "0                                         0   \n",
      "1                                         0   \n",
      "2                                         0   \n",
      "3                                         0   \n",
      "4                                         0   \n",
      "..                                      ...   \n",
      "73                                        0   \n",
      "74                                        0   \n",
      "75                                        0   \n",
      "76                                        0   \n",
      "77                                        0   \n",
      "\n",
      "    inorganic_formula_7_element_fraction_Bk  \\\n",
      "0                                         0   \n",
      "1                                         0   \n",
      "2                                         0   \n",
      "3                                         0   \n",
      "4                                         0   \n",
      "..                                      ...   \n",
      "73                                        0   \n",
      "74                                        0   \n",
      "75                                        0   \n",
      "76                                        0   \n",
      "77                                        0   \n",
      "\n",
      "    inorganic_formula_7_element_fraction_Cf  \\\n",
      "0                                         0   \n",
      "1                                         0   \n",
      "2                                         0   \n",
      "3                                         0   \n",
      "4                                         0   \n",
      "..                                      ...   \n",
      "73                                        0   \n",
      "74                                        0   \n",
      "75                                        0   \n",
      "76                                        0   \n",
      "77                                        0   \n",
      "\n",
      "    inorganic_formula_7_element_fraction_Es  \\\n",
      "0                                         0   \n",
      "1                                         0   \n",
      "2                                         0   \n",
      "3                                         0   \n",
      "4                                         0   \n",
      "..                                      ...   \n",
      "73                                        0   \n",
      "74                                        0   \n",
      "75                                        0   \n",
      "76                                        0   \n",
      "77                                        0   \n",
      "\n",
      "    inorganic_formula_7_element_fraction_Fm  \\\n",
      "0                                         0   \n",
      "1                                         0   \n",
      "2                                         0   \n",
      "3                                         0   \n",
      "4                                         0   \n",
      "..                                      ...   \n",
      "73                                        0   \n",
      "74                                        0   \n",
      "75                                        0   \n",
      "76                                        0   \n",
      "77                                        0   \n",
      "\n",
      "    inorganic_formula_7_element_fraction_Md  \\\n",
      "0                                         0   \n",
      "1                                         0   \n",
      "2                                         0   \n",
      "3                                         0   \n",
      "4                                         0   \n",
      "..                                      ...   \n",
      "73                                        0   \n",
      "74                                        0   \n",
      "75                                        0   \n",
      "76                                        0   \n",
      "77                                        0   \n",
      "\n",
      "    inorganic_formula_7_element_fraction_No  \n",
      "0                                         0  \n",
      "1                                         0  \n",
      "2                                         0  \n",
      "3                                         0  \n",
      "4                                         0  \n",
      "..                                      ...  \n",
      "73                                        0  \n",
      "74                                        0  \n",
      "75                                        0  \n",
      "76                                        0  \n",
      "77                                        0  \n",
      "\n",
      "[78 rows x 1652 columns]\n"
     ]
    }
   ],
   "source": [
    "import pandas as pd\n",
    "from matminer.featurizers.conversions import StrToComposition\n",
    "from matminer.featurizers.composition.orbital import AtomicOrbitals\n",
    "from matminer.featurizers.composition import ElementProperty\n",
    "from matminer.featurizers.composition.element import ElementFraction\n",
    "from pymatgen.core import Composition\n",
    "\n",
    "# 假设 new_datasets 是包含拆分数据集的字典，如 'data1', 'data2', ...\n",
    "# 每个数据集中应该有 'Name' 列\n",
    "\n",
    "# 初始化 StrToComposition\n",
    "str_to_comp = StrToComposition(target_col_id='composition')\n",
    "\n",
    "# 初始化 AtomicOrbitals\n",
    "comp_to_orbital = AtomicOrbitals()\n",
    "\n",
    "# 初始化 ElementProperty\n",
    "features_element_property = ['Number', 'MendeleevNumber', 'AtomicWeight', 'MeltingT', \n",
    "                              'Column', 'Row', 'CovalentRadius', 'Electronegativity', \n",
    "                              'NsValence', 'NpValence', 'NdValence', 'NfValence', 'NValence', \n",
    "                              'NsUnfilled', 'NpUnfilled', 'NdUnfilled', 'NfUnfilled', 'NUnfilled', \n",
    "                              'GSvolume_pa', 'GSbandgap', 'GSmagmom', 'SpaceGroupNumber']\n",
    "stats_element_property = ['mean', 'minimum', 'maximum', 'range', 'avg_dev', 'mode']\n",
    "element_property_featurizer = ElementProperty(data_source='magpie', features=features_element_property, stats=stats_element_property)\n",
    "\n",
    "# 初始化 ElementFraction\n",
    "element_fraction = ElementFraction()\n",
    "\n",
    "# 用于存储特征转换后的数据集\n",
    "result_datasets = {}\n",
    "\n",
    "# 遍历拆分的数据集\n",
    "for i, (key, dataset) in enumerate(new_datasets.items(), start=1):\n",
    "    # 特征转换1: StrToComposition\n",
    "    df_comp = str_to_comp.featurize_dataframe(dataset, col_id='Name')\n",
    "    \n",
    "    # 特征转换2: AtomicOrbitals\n",
    "    orbital_features = comp_to_orbital.featurize_dataframe(df_comp, col_id='composition')\n",
    "    orbital_features = orbital_features.iloc[:, [4, 7, 8]]  # 选择感兴趣的列\n",
    "    \n",
    "    # 特征转换3: ElementProperty\n",
    "    element_property_features = element_property_featurizer.featurize_dataframe(df_comp, col_id='composition')\n",
    "    element_property_features = element_property_features.iloc[:, 2:-1]  # 选择感兴趣的列\n",
    "    \n",
    "    # 特征转换4: ElementFraction\n",
    "    element_fraction_features = element_fraction.featurize_dataframe(df_comp, col_id='composition')\n",
    "    element_fraction_features = element_fraction_features.iloc[:, 2:-1]  # 选择感兴趣的列\n",
    "    \n",
    "    # 添加前缀\n",
    "    prefix_orbital = f'inorganic_formula_{i}_orbital_'\n",
    "    orbital_features = orbital_features.add_prefix(prefix_orbital)\n",
    "    \n",
    "    prefix_element_property = f'inorganic_formula_{i}_element_property_'\n",
    "    element_property_features = element_property_features.add_prefix(prefix_element_property)\n",
    "    \n",
    "    prefix_element_fraction = f'inorganic_formula_{i}_element_fraction_'\n",
    "    element_fraction_features = element_fraction_features.add_prefix(prefix_element_fraction)\n",
    "    \n",
    "    # 合并特征转换后的数据集\n",
    "    result_datasets[key] = pd.concat([orbital_features, element_property_features, element_fraction_features], axis=1)\n",
    "\n",
    "# 合并所有数据集\n",
    "merged_result = pd.concat(result_datasets.values(), axis=1)\n",
    "\n",
    "# 将合并后的结果保存为 CSV 文件\n",
    "merged_result.to_csv('merged_result.csv', index=False)\n",
    "\n",
    "# 打印或使用合并后的结果\n",
    "print(merged_result)"
   ]
  },
  {
   "cell_type": "code",
   "execution_count": 9,
   "id": "5debd6eb-942c-4336-b322-6e0c7a33f747",
   "metadata": {},
   "outputs": [],
   "source": [
    "# 有机部分\n",
    "original_data2 = pd.DataFrame(pd.read_csv('OrganicSmiles_selected_columns.csv'))"
   ]
  },
  {
   "cell_type": "code",
   "execution_count": 10,
   "id": "3b85486d-f297-43bb-b746-fc76861cefd9",
   "metadata": {},
   "outputs": [
    {
     "name": "stdout",
     "output_type": "stream",
     "text": [
      "organic_data1:\n",
      "                             Name\n",
      "0                    [NH4+].[Cl-]\n",
      "1   CCCC[N+](CCCC)(CCCC)CCCC.[I-]\n",
      "2              [Br-].[Br-].[Sn+2]\n",
      "3                [Sn+2].[I-].[I-]\n",
      "4                     [Cl-].[Ag+]\n",
      "..                            ...\n",
      "73                    [Na+].[Cl-]\n",
      "74                      C(=N)N.Cl\n",
      "75               [I-].[I-].[Pb+2]\n",
      "76  C1=CC(=CC(=C1)Br)/C=C/C(=O)O \n",
      "77                          CN.Br\n",
      "\n",
      "[78 rows x 1 columns]\n",
      "\n"
     ]
    }
   ],
   "source": [
    "new_datasets2 = {}\n",
    "\n",
    "# 遍历原始数据集的每一列\n",
    "for col_name in original_data2.columns:\n",
    "    # 创建新的数据集，将当前列命名为 'Name'\n",
    "    new_dataset2 = pd.DataFrame({ 'Name': original_data2[col_name] })\n",
    "    \n",
    "    # 将新数据集存储在字典中，字典的键是 'organic_data1'，'organic_data2'，依此类推\n",
    "    new_datasets2['organic_data' + str(len(new_datasets2) + 1)] = new_dataset2\n",
    "\n",
    "# 打印或使用新的数据集\n",
    "for key, value in new_datasets2.items():\n",
    "    print(f\"{key}:\\n{value}\\n\")"
   ]
  },
  {
   "cell_type": "code",
   "execution_count": 11,
   "id": "d26e0c2b-f8de-42d0-8078-6f80f4f752fa",
   "metadata": {},
   "outputs": [
    {
     "name": "stdout",
     "output_type": "stream",
     "text": [
      "    organic_data1_rdkit_0  organic_data1_rdkit_1  organic_data1_rdkit_2  \\\n",
      "0                     224                    255                    255   \n",
      "1                     224                    255                    255   \n",
      "2                     224                    255                    255   \n",
      "3                     224                    255                    255   \n",
      "4                     224                    255                    255   \n",
      "..                    ...                    ...                    ...   \n",
      "73                    224                    255                    255   \n",
      "74                    224                    255                    255   \n",
      "75                    224                    255                    255   \n",
      "76                    224                    255                    255   \n",
      "77                    224                    255                    255   \n",
      "\n",
      "    organic_data1_rdkit_3  organic_data1_rdkit_4  organic_data1_rdkit_5  \\\n",
      "0                     255                      0                      8   \n",
      "1                     255                      0                      8   \n",
      "2                     255                      0                      8   \n",
      "3                     255                      0                      8   \n",
      "4                     255                      0                      8   \n",
      "..                    ...                    ...                    ...   \n",
      "73                    255                      0                      8   \n",
      "74                    255                      0                      8   \n",
      "75                    255                      0                      8   \n",
      "76                    255                      0                      8   \n",
      "77                    255                      0                      8   \n",
      "\n",
      "    organic_data1_rdkit_6  organic_data1_rdkit_7  organic_data1_rdkit_8  \\\n",
      "0                       0                      0                      2   \n",
      "1                       0                      0                     13   \n",
      "2                       0                      0                      2   \n",
      "3                       0                      0                      2   \n",
      "4                       0                      0                      2   \n",
      "..                    ...                    ...                    ...   \n",
      "73                      0                      0                      2   \n",
      "74                      0                      0                      7   \n",
      "75                      0                      0                      2   \n",
      "76                      0                      0                     26   \n",
      "77                      0                      0                      4   \n",
      "\n",
      "    organic_data1_rdkit_9  ...  organic_data1_rdkit_33  \\\n",
      "0                       0  ...                     0.0   \n",
      "1                       0  ...                     0.0   \n",
      "2                       0  ...                     0.0   \n",
      "3                       0  ...                     0.0   \n",
      "4                       0  ...                     0.0   \n",
      "..                    ...  ...                     ...   \n",
      "73                      0  ...                     0.0   \n",
      "74                      0  ...                     0.0   \n",
      "75                      0  ...                     0.0   \n",
      "76                      0  ...                    93.0   \n",
      "77                      0  ...                     0.0   \n",
      "\n",
      "    organic_data1_rdkit_34  organic_data1_rdkit_35  organic_data1_rdkit_36  \\\n",
      "0                      0.0                     0.0                     0.0   \n",
      "1                      0.0                     0.0                     0.0   \n",
      "2                      0.0                     0.0                     0.0   \n",
      "3                      0.0                     0.0                     0.0   \n",
      "4                      0.0                     0.0                     0.0   \n",
      "..                     ...                     ...                     ...   \n",
      "73                     0.0                     0.0                     0.0   \n",
      "74                     0.0                     0.0                     0.0   \n",
      "75                     0.0                     0.0                     0.0   \n",
      "76                     0.0                   196.0                   236.0   \n",
      "77                     0.0                     0.0                     0.0   \n",
      "\n",
      "    organic_data1_rdkit_37  organic_data1_rdkit_38  organic_data1_rdkit_39  \\\n",
      "0                      0.0                     0.0                     0.0   \n",
      "1                      0.0                     0.0                     0.0   \n",
      "2                      0.0                     0.0                     0.0   \n",
      "3                      0.0                     0.0                     0.0   \n",
      "4                      0.0                     0.0                     0.0   \n",
      "..                     ...                     ...                     ...   \n",
      "73                     0.0                     0.0                     0.0   \n",
      "74                     0.0                     0.0                     0.0   \n",
      "75                     0.0                     0.0                     0.0   \n",
      "76                   244.0                    86.0                    96.0   \n",
      "77                     0.0                     0.0                     0.0   \n",
      "\n",
      "    organic_data1_rdkit_40  organic_data1_rdkit_41  organic_data1_rdkit_42  \n",
      "0                      0.0                     0.0                     0.0  \n",
      "1                      0.0                     0.0                     0.0  \n",
      "2                      0.0                     0.0                     0.0  \n",
      "3                      0.0                     0.0                     0.0  \n",
      "4                      0.0                     0.0                     0.0  \n",
      "..                     ...                     ...                     ...  \n",
      "73                     0.0                     0.0                     0.0  \n",
      "74                     0.0                     0.0                     0.0  \n",
      "75                     0.0                     0.0                     0.0  \n",
      "76                   132.0                    14.0                    12.0  \n",
      "77                     0.0                     0.0                     0.0  \n",
      "\n",
      "[78 rows x 43 columns]\n"
     ]
    }
   ],
   "source": [
    "import pandas as pd\n",
    "import numpy as np\n",
    "from rdkit import Chem\n",
    "from rdkit.Chem import AllChem\n",
    "\n",
    "# 假设 new_datasets2 是包含拆分数据集的字典，如 'organic_data1', 'organic_data2', ...\n",
    "# 每个数据集中应该有 'Name' 列\n",
    "\n",
    "# 用于存储 RDKit 特征化后的数据集\n",
    "rdkit_datasets = {}\n",
    "\n",
    "# 遍历拆分的数据集\n",
    "for key, dataset in new_datasets2.items():\n",
    "    # 特征化 RDKit\n",
    "    rdkit_features = dataset['Name'].apply(lambda x: AllChem.GetMorganFingerprintAsBitVect(Chem.MolFromSmiles(x), 2))\n",
    "    \n",
    "    # 将 RDKit 指纹转换为 DataFrame\n",
    "    rdkit_features_df = pd.DataFrame(list(rdkit_features.apply(lambda x: np.frombuffer(x.ToBinary(), dtype=np.uint8))))\n",
    "    \n",
    "    # 添加前缀\n",
    "    prefix_rdkit = f'{key}_rdkit_'\n",
    "    rdkit_features_df = rdkit_features_df.add_prefix(prefix_rdkit)\n",
    "    \n",
    "    # 存储特征化后的数据集\n",
    "    rdkit_datasets[key] = rdkit_features_df\n",
    "\n",
    "# 合并 RDKit 特征化后的数据集\n",
    "merged_rdkit_result = pd.concat(rdkit_datasets.values(), axis=1)\n",
    "merged_rdkit_result.fillna(0, inplace=True)\n",
    "# 将合并后的结果保存为 CSV 文件\n",
    "merged_rdkit_result.to_csv('merged_rdkit_result.csv', index=False)\n",
    "\n",
    "# 打印或使用合并后的 RDKit 特征化结果\n",
    "print(merged_rdkit_result)"
   ]
  },
  {
   "cell_type": "code",
   "execution_count": 12,
   "id": "38bc6c66-ae6b-4c4c-8c52-351dbfd98fb1",
   "metadata": {},
   "outputs": [],
   "source": [
    "unselected_columns=pd.DataFrame(pd.read_csv('unselected_columns.csv'))"
   ]
  },
  {
   "cell_type": "code",
   "execution_count": 13,
   "id": "fa36b419-598b-4547-b28d-ad80b50f6634",
   "metadata": {},
   "outputs": [],
   "source": [
    "# 合并前重置索引\n",
    "merged_result.reset_index(drop=True, inplace=True)\n",
    "merged_rdkit_result.reset_index(drop=True, inplace=True)\n",
    "unselected_columns.reset_index(drop=True, inplace=True)\n",
    "\n",
    "# 合并三个数据集\n",
    "all_merged_data = pd.concat([merged_result, merged_rdkit_result, unselected_columns], axis=1)\n",
    "\n",
    "# 将合并后的结果保存为 CSV 文件\n",
    "all_merged_data.to_csv('test_train_dataset.csv', index=False)"
   ]
  },
  {
   "cell_type": "code",
   "execution_count": null,
   "id": "7155ac82-a1be-441d-93d1-3f3c1cdc4a41",
   "metadata": {},
   "outputs": [],
   "source": []
  }
 ],
 "metadata": {
  "kernelspec": {
   "display_name": "py37",
   "language": "python",
   "name": "py37"
  },
  "language_info": {
   "codemirror_mode": {
    "name": "ipython",
    "version": 3
   },
   "file_extension": ".py",
   "mimetype": "text/x-python",
   "name": "python",
   "nbconvert_exporter": "python",
   "pygments_lexer": "ipython3",
   "version": "3.11.5"
  }
 },
 "nbformat": 4,
 "nbformat_minor": 5
}
